{
 "cells": [
  {
   "cell_type": "code",
   "execution_count": 7,
   "metadata": {},
   "outputs": [],
   "source": [
    "import os\n",
    "#일반적으로 manage.py을 이용해 python shell을 사용하는데 이 문장을 추가함으로써 장고 환경 로딩가능\n",
    "os.environ['DJANGO_SETTINGS_MODULE'] = 'backend.settings.dev' \n",
    "os.environ[\"DJANGO_ALLOW_ASYNC_UNSAFE\"] = 'true'\n",
    "\n",
    "import django\n",
    "django.setup()"
   ]
  },
  {
   "cell_type": "code",
   "execution_count": 8,
   "metadata": {},
   "outputs": [
    {
     "data": {
      "text/plain": [
       "<User: gunhong1>"
      ]
     },
     "execution_count": 8,
     "metadata": {},
     "output_type": "execute_result"
    }
   ],
   "source": [
    "from django.contrib.auth import get_user_model\n",
    "\n",
    "# 이런식으로 하니까 비밀번호가 암호화가 안되어 있네?\n",
    "User = get_user_model()\n",
    "User.objects.create(username=\"gunhong1\", password=\"qeadzc123\", nick_name=\"회원1\")\n"
   ]
  },
  {
   "cell_type": "code",
   "execution_count": 24,
   "metadata": {
    "vscode": {
     "languageId": "shellscript"
    }
   },
   "outputs": [
    {
     "name": "stdout",
     "output_type": "stream",
     "text": [
      "\u001b[34mHTTP\u001b[39;49;00m/\u001b[34m1.1\u001b[39;49;00m \u001b[34m200\u001b[39;49;00m \u001b[36mOK\u001b[39;49;00m\n",
      "\u001b[36mAllow\u001b[39;49;00m: GET, POST, HEAD, OPTIONS\n",
      "\u001b[36mContent-Length\u001b[39;49;00m: 164\n",
      "\u001b[36mContent-Type\u001b[39;49;00m: application/json\n",
      "\u001b[36mCross-Origin-Opener-Policy\u001b[39;49;00m: same-origin\n",
      "\u001b[36mDate\u001b[39;49;00m: Fri, 17 Mar 2023 03:22:18 GMT\n",
      "\u001b[36mReferrer-Policy\u001b[39;49;00m: same-origin\n",
      "\u001b[36mServer\u001b[39;49;00m: WSGIServer/0.2 CPython/3.9.0\n",
      "\u001b[36mServer-Timing\u001b[39;49;00m: TimerPanel_utime;dur=48.077000000000034;desc=\"User CPU time\", TimerPanel_stime;dur=38.25200000000001;desc=\"System CPU time\", TimerPanel_total;dur=86.32900000000004;desc=\"Total CPU time\", TimerPanel_total_time;dur=87.58330345153809;desc=\"Elapsed time\", SQLPanel_sql_time;dur=0.31113624572753906;desc=\"SQL 1 queries\", CachePanel_total_time;dur=0;desc=\"Cache 0 Calls\"\n",
      "\u001b[36mVary\u001b[39;49;00m: Accept, Cookie\n",
      "\u001b[36mX-Content-Type-Options\u001b[39;49;00m: nosniff\n",
      "\u001b[36mX-Frame-Options\u001b[39;49;00m: DENY\n",
      "\u001b[36mdjdt-store-id\u001b[39;49;00m: 4afed3c369174f499b6f085738001db6\n",
      "\n",
      "[\u001b[37m\u001b[39;49;00m\n",
      "\u001b[37m    \u001b[39;49;00m{\u001b[37m\u001b[39;49;00m\n",
      "\u001b[37m        \u001b[39;49;00m\u001b[94m\"author\"\u001b[39;49;00m:\u001b[37m \u001b[39;49;00m\u001b[34m1\u001b[39;49;00m,\u001b[37m\u001b[39;49;00m\n",
      "\u001b[37m        \u001b[39;49;00m\u001b[94m\"caption\"\u001b[39;49;00m:\u001b[37m \u001b[39;49;00m\u001b[33m\"#imp #segmentation\"\u001b[39;49;00m,\u001b[37m\u001b[39;49;00m\n",
      "\u001b[37m        \u001b[39;49;00m\u001b[94m\"content\"\u001b[39;49;00m:\u001b[37m \u001b[39;49;00m\u001b[33m\"이미지 세그멘테이션\"\u001b[39;49;00m,\u001b[37m\u001b[39;49;00m\n",
      "\u001b[37m        \u001b[39;49;00m\u001b[94m\"photo\"\u001b[39;49;00m:\u001b[37m \u001b[39;49;00m\u001b[33m\"http://localhost:8000/media/instagram/post/2023/03/17/R1280x0-5.png\"\u001b[39;49;00m\u001b[37m\u001b[39;49;00m\n",
      "\u001b[37m    \u001b[39;49;00m}\u001b[37m\u001b[39;49;00m\n",
      "]\u001b[37m\u001b[39;49;00m\n",
      "\n",
      "\n"
     ]
    }
   ],
   "source": [
    "#shell command을 쓸려면 이렇게 하면 되는구나\n",
    "!http http://localhost:8000/api/posts/\n"
   ]
  }
 ],
 "metadata": {
  "kernelspec": {
   "display_name": "boom",
   "language": "python",
   "name": "python3"
  },
  "language_info": {
   "codemirror_mode": {
    "name": "ipython",
    "version": 3
   },
   "file_extension": ".py",
   "mimetype": "text/x-python",
   "name": "python",
   "nbconvert_exporter": "python",
   "pygments_lexer": "ipython3",
   "version": "3.9.0"
  },
  "orig_nbformat": 4
 },
 "nbformat": 4,
 "nbformat_minor": 2
}
